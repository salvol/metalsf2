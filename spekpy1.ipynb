{
 "cells": [
  {
   "cell_type": "code",
   "execution_count": null,
   "id": "6ab3aed1",
   "metadata": {},
   "outputs": [],
   "source": [
    "%matplotlib notebook\n",
    "import spekpy as sp # Import SpekPy\n",
    "import numpy as np # import numpy\n",
    "import matplotlib.pyplot as plt # Import library for plotting\n",
    "\n",
    "s = sp.Spek(kvp=80,th=43) # Create a spectrum\n",
    "s.filter('Al',0.5) # Filter the spectrum thickness in mm\n",
    "energy, intensity = s.get_spectrum(edges=True) # Get the spectrum\n",
    "plt.plot(energy, intensity, label='80kV') # Plot the spectrum\n",
    "plt.xlabel('Energy [keV]')\n",
    "plt.ylabel('Fluence per mAs per unit energy [photons/cm2/mAs/keV]')\n",
    "plt.legend(loc='best')\n",
    "\n",
    "\n",
    "# compute mean energy\n",
    "mean_energy = np.sum(energy * intensity / np.sum (intensity))\n",
    "plt.title('mean energy = %0.2f in keV' %(mean_energy))\n",
    "plt.show()\n",
    "print(mean_energy)"
   ]
  }
 ],
 "metadata": {
  "kernelspec": {
   "display_name": "Python 3",
   "language": "python",
   "name": "python3"
  },
  "language_info": {
   "codemirror_mode": {
    "name": "ipython",
    "version": 3
   },
   "file_extension": ".py",
   "mimetype": "text/x-python",
   "name": "python",
   "nbconvert_exporter": "python",
   "pygments_lexer": "ipython3",
   "version": "3.6.13"
  }
 },
 "nbformat": 4,
 "nbformat_minor": 5
}
