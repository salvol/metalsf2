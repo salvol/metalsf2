%matplotlib notebook
import spekpy as sp # Import SpekPy
import numpy as np # import numpy
import matplotlib.pyplot as plt # Import library for plotting

s = sp.Spek(kvp=80,th=43) # Create a spectrum
s.filter('Al',0.5) # Filter the spectrum thickness in mm
energy, intensity = s.get_spectrum(edges=True) # Get the spectrum
plt.plot(energy, intensity, label='80kV') # Plot the spectrum
plt.xlabel('Energy [keV]')
plt.ylabel('Fluence per mAs per unit energy [photons/cm2/mAs/keV]')
plt.legend(loc='best')


# compute mean energy
mean_energy = np.sum(energy * intensity / np.sum (intensity))
plt.title('mean energy = %0.2f in keV' %(mean_energy))
plt.show()
print(mean_energy)